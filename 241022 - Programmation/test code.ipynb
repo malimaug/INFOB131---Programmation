{
 "cells": [
  {
   "cell_type": "code",
   "id": "initial_id",
   "metadata": {
    "collapsed": true,
    "ExecuteTime": {
     "end_time": "2024-10-22T07:14:39.043379Z",
     "start_time": "2024-10-22T07:14:39.038567Z"
    }
   },
   "source": [
    "e = 0\n",
    "while e < 10:\n",
    "    print(e+1)\n",
    "    print(e)\n",
    "    e += 1"
   ],
   "outputs": [
    {
     "name": "stdout",
     "output_type": "stream",
     "text": [
      "1\n",
      "0\n",
      "2\n",
      "1\n",
      "3\n",
      "2\n",
      "4\n",
      "3\n",
      "5\n",
      "4\n",
      "6\n",
      "5\n",
      "7\n",
      "6\n",
      "8\n",
      "7\n",
      "9\n",
      "8\n",
      "10\n",
      "9\n"
     ]
    }
   ],
   "execution_count": 3
  },
  {
   "metadata": {
    "ExecuteTime": {
     "end_time": "2024-10-22T07:19:00.779157Z",
     "start_time": "2024-10-22T07:19:00.510351Z"
    }
   },
   "cell_type": "code",
   "source": [
    "for i in range(1, 5, ):\n",
    "    print(1)"
   ],
   "id": "aeb1d801c613f76",
   "outputs": [
    {
     "ename": "ValueError",
     "evalue": "range() arg 3 must not be zero",
     "output_type": "error",
     "traceback": [
      "\u001B[1;31m---------------------------------------------------------------------------\u001B[0m",
      "\u001B[1;31mValueError\u001B[0m                                Traceback (most recent call last)",
      "Cell \u001B[1;32mIn[15], line 1\u001B[0m\n\u001B[1;32m----> 1\u001B[0m \u001B[38;5;28;01mfor\u001B[39;00m i \u001B[38;5;129;01min\u001B[39;00m \u001B[38;5;28;43mrange\u001B[39;49m\u001B[43m(\u001B[49m\u001B[38;5;241;43m1\u001B[39;49m\u001B[43m,\u001B[49m\u001B[43m \u001B[49m\u001B[38;5;241;43m5\u001B[39;49m\u001B[43m,\u001B[49m\u001B[43m \u001B[49m\u001B[38;5;241;43m0\u001B[39;49m\u001B[43m)\u001B[49m:\n\u001B[0;32m      2\u001B[0m     \u001B[38;5;28mprint\u001B[39m(\u001B[38;5;241m1\u001B[39m)\n",
      "\u001B[1;31mValueError\u001B[0m: range() arg 3 must not be zero"
     ]
    }
   ],
   "execution_count": 15
  },
  {
   "metadata": {
    "ExecuteTime": {
     "end_time": "2024-10-22T07:16:28.002040Z",
     "start_time": "2024-10-22T07:16:27.980239Z"
    }
   },
   "cell_type": "code",
   "source": [
    "sum_number = 0\n",
    "\n",
    "for number in [2, 4, 6, 8, 10]:\n",
    "    sum_number += number\n",
    "\n",
    "print(sum_number)"
   ],
   "id": "38b05f22d116ade1",
   "outputs": [
    {
     "name": "stdout",
     "output_type": "stream",
     "text": [
      "30\n"
     ]
    }
   ],
   "execution_count": 10
  },
  {
   "metadata": {
    "ExecuteTime": {
     "end_time": "2024-10-22T07:16:46.474944Z",
     "start_time": "2024-10-22T07:16:46.465373Z"
    }
   },
   "cell_type": "code",
   "source": [
    "mult_number = 1\n",
    "\n",
    "for number in [1, 2, 3, 4, 5]:\n",
    "    mult_number *= number\n",
    "\n",
    "print(mult_number)"
   ],
   "id": "d8447ce9ce2cb70e",
   "outputs": [
    {
     "name": "stdout",
     "output_type": "stream",
     "text": [
      "120\n"
     ]
    }
   ],
   "execution_count": 11
  },
  {
   "metadata": {
    "ExecuteTime": {
     "end_time": "2024-10-22T07:17:28.721472Z",
     "start_time": "2024-10-22T07:17:28.707225Z"
    }
   },
   "cell_type": "code",
   "source": [
    "total = 1\n",
    "\n",
    "for fact in range(2, 5 + 1):\n",
    "    total *= fact\n",
    "    \n",
    "print(total)"
   ],
   "id": "6936146fd7578fa4",
   "outputs": [
    {
     "name": "stdout",
     "output_type": "stream",
     "text": [
      "120\n"
     ]
    }
   ],
   "execution_count": 12
  },
  {
   "metadata": {
    "ExecuteTime": {
     "end_time": "2024-10-22T07:17:46.854770Z",
     "start_time": "2024-10-22T07:17:46.838233Z"
    }
   },
   "cell_type": "code",
   "source": [
    "number = 12345\n",
    "str_number = str(number)\n",
    "\n",
    "result = 0\n",
    "\n",
    "iterator = 0\n",
    "\n",
    "while iterator < len(str_number):\n",
    "    result += int(str_number[iterator])\n",
    "    iterator += 1\n",
    "\n",
    "print(result)"
   ],
   "id": "5e480f4789dd6039",
   "outputs": [
    {
     "name": "stdout",
     "output_type": "stream",
     "text": [
      "15\n"
     ]
    }
   ],
   "execution_count": 13
  },
  {
   "metadata": {
    "ExecuteTime": {
     "end_time": "2024-10-22T07:18:23.767822Z",
     "start_time": "2024-10-22T07:18:23.751995Z"
    }
   },
   "cell_type": "code",
   "source": [
    "number = 12\n",
    "divider_list = []\n",
    "\n",
    "for div in range(1, 12 + 1):\n",
    "    if number % div == 0:\n",
    "        divider_list.append(div)\n",
    "\n",
    "print(len(divider_list))\n",
    "print(divider_list)"
   ],
   "id": "ec8befa937edb044",
   "outputs": [
    {
     "name": "stdout",
     "output_type": "stream",
     "text": [
      "6\n",
      "[1, 2, 3, 4, 6, 12]\n"
     ]
    }
   ],
   "execution_count": 14
  },
  {
   "metadata": {
    "ExecuteTime": {
     "end_time": "2024-10-22T07:19:31.256442Z",
     "start_time": "2024-10-22T07:19:31.243478Z"
    }
   },
   "cell_type": "code",
   "source": [
    "start_number = 2\n",
    "end_number = 5\n",
    "\n",
    "for front_number in range(start_number, end_number + 1):\n",
    "    for multiplier in range(1, 11):\n",
    "        multiplication = front_number * multiplier\n",
    "        print(\"%d * %d = %d\" % (front_number, multiplier, multiplication))"
   ],
   "id": "abfa0cb3edc87627",
   "outputs": [
    {
     "name": "stdout",
     "output_type": "stream",
     "text": [
      "2 * 1 = 2\n",
      "2 * 2 = 4\n",
      "2 * 3 = 6\n",
      "2 * 4 = 8\n",
      "2 * 5 = 10\n",
      "2 * 6 = 12\n",
      "2 * 7 = 14\n",
      "2 * 8 = 16\n",
      "2 * 9 = 18\n",
      "2 * 10 = 20\n",
      "3 * 1 = 3\n",
      "3 * 2 = 6\n",
      "3 * 3 = 9\n",
      "3 * 4 = 12\n",
      "3 * 5 = 15\n",
      "3 * 6 = 18\n",
      "3 * 7 = 21\n",
      "3 * 8 = 24\n",
      "3 * 9 = 27\n",
      "3 * 10 = 30\n",
      "4 * 1 = 4\n",
      "4 * 2 = 8\n",
      "4 * 3 = 12\n",
      "4 * 4 = 16\n",
      "4 * 5 = 20\n",
      "4 * 6 = 24\n",
      "4 * 7 = 28\n",
      "4 * 8 = 32\n",
      "4 * 9 = 36\n",
      "4 * 10 = 40\n",
      "5 * 1 = 5\n",
      "5 * 2 = 10\n",
      "5 * 3 = 15\n",
      "5 * 4 = 20\n",
      "5 * 5 = 25\n",
      "5 * 6 = 30\n",
      "5 * 7 = 35\n",
      "5 * 8 = 40\n",
      "5 * 9 = 45\n",
      "5 * 10 = 50\n"
     ]
    }
   ],
   "execution_count": 16
  },
  {
   "metadata": {
    "ExecuteTime": {
     "end_time": "2024-10-22T07:20:11.652291Z",
     "start_time": "2024-10-22T07:20:11.640713Z"
    }
   },
   "cell_type": "code",
   "source": [
    "for number in range(1, 20, 2):\n",
    "    print(number)"
   ],
   "id": "ec19545ff156b8a9",
   "outputs": [
    {
     "name": "stdout",
     "output_type": "stream",
     "text": [
      "1\n",
      "3\n",
      "5\n",
      "7\n",
      "9\n",
      "11\n",
      "13\n",
      "15\n",
      "17\n",
      "19\n"
     ]
    }
   ],
   "execution_count": 17
  },
  {
   "metadata": {
    "ExecuteTime": {
     "end_time": "2024-10-22T07:22:07.131178Z",
     "start_time": "2024-10-22T07:22:07.116214Z"
    }
   },
   "cell_type": "code",
   "source": [
    "total_sum = 0\n",
    "for number in range(1, 1000):\n",
    "    if number % 3 == 0 or number % 5 == 0:\n",
    "        total_sum += number\n",
    "        \n",
    "print(total_sum)"
   ],
   "id": "6bab263ec402a157",
   "outputs": [
    {
     "name": "stdout",
     "output_type": "stream",
     "text": [
      "233168\n"
     ]
    }
   ],
   "execution_count": 19
  }
 ],
 "metadata": {
  "kernelspec": {
   "display_name": "Python 3",
   "language": "python",
   "name": "python3"
  },
  "language_info": {
   "codemirror_mode": {
    "name": "ipython",
    "version": 2
   },
   "file_extension": ".py",
   "mimetype": "text/x-python",
   "name": "python",
   "nbconvert_exporter": "python",
   "pygments_lexer": "ipython2",
   "version": "2.7.6"
  }
 },
 "nbformat": 4,
 "nbformat_minor": 5
}
