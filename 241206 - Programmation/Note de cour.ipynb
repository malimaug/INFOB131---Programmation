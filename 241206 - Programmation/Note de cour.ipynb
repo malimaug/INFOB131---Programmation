{
 "cells": [
  {
   "metadata": {},
   "cell_type": "markdown",
   "source": [
    "# Algorithmique\n",
    "\n",
    "créer des programmes éfficace\n",
    "\n",
    "ça peut les rendres plus économe en energie\n",
    "\n",
    "on essaye aussi de ne pas depasser les resources disponible\n",
    "\n",
    "un algorithme c'est un programme en pseudo code\n",
    "\n",
    "## Comment comparer les algo\n",
    "\n",
    "### taille d'un problème\n",
    "nombre d'élément à traiter pour le resoudre\n",
    "\n",
    "### En fonction du temps\n",
    "\n",
    "complexité temporelle = le nombre d'operation\n",
    "\n",
    "on s'en fiche des coéfficient:\n",
    "\n",
    "notation big O: O(...)\n",
    "\n",
    "operations basique\n",
    "slide 15\n",
    "\n",
    "complexité constante: 0(1) -> indépendent de la quantité de donnée\n",
    "\n",
    "complexité linéaire: 0(n) -> calculer la moyenne des éléments d'une liste, voir chaque élément une fois\n",
    "\n",
    "complexité quadratique: O(n^2) -> quand on doit parcourir un tableau de taille n\n",
    "\n",
    "complexité cubique: O(n^3) -> multiplication de deux matrices\n",
    "\n",
    "complexité exponetielle: O(np)\n",
    "\n",
    "## Calcul de rendement\n",
    "\n"
   ],
   "id": "f564f7fe89eefa53"
  },
  {
   "metadata": {
    "ExecuteTime": {
     "end_time": "2024-12-06T10:52:31.761900Z",
     "start_time": "2024-12-06T10:52:31.503842Z"
    }
   },
   "cell_type": "code",
   "source": [
    "valeurs = [1,2,3,4,3,4,5,6,5,7]\n",
    "\n",
    "sum = 0\n",
    "\n",
    "for index, valeur in enumerate(valeurs):\n",
    "\n",
    "    sum += valeur\n",
    "\n",
    "    print(\"En %d j'aurai gagner en moyenne %d\" % (index+1, sum/index+1))"
   ],
   "id": "7fec53475260353d",
   "outputs": [
    {
     "ename": "ZeroDivisionError",
     "evalue": "division by zero",
     "output_type": "error",
     "traceback": [
      "\u001B[1;31m---------------------------------------------------------------------------\u001B[0m",
      "\u001B[1;31mZeroDivisionError\u001B[0m                         Traceback (most recent call last)",
      "Cell \u001B[1;32mIn[1], line 9\u001B[0m\n\u001B[0;32m      5\u001B[0m \u001B[38;5;28;01mfor\u001B[39;00m index, valeur \u001B[38;5;129;01min\u001B[39;00m \u001B[38;5;28menumerate\u001B[39m(valeurs):\n\u001B[0;32m      7\u001B[0m     \u001B[38;5;28msum\u001B[39m \u001B[38;5;241m+\u001B[39m\u001B[38;5;241m=\u001B[39m valeur\n\u001B[1;32m----> 9\u001B[0m     \u001B[38;5;28mprint\u001B[39m(\u001B[38;5;124m\"\u001B[39m\u001B[38;5;124mEn \u001B[39m\u001B[38;5;132;01m%d\u001B[39;00m\u001B[38;5;124m j\u001B[39m\u001B[38;5;124m'\u001B[39m\u001B[38;5;124maurai gagner en moyenne \u001B[39m\u001B[38;5;132;01m%d\u001B[39;00m\u001B[38;5;124m\"\u001B[39m \u001B[38;5;241m%\u001B[39m (index\u001B[38;5;241m+\u001B[39m\u001B[38;5;241m1\u001B[39m, \u001B[38;5;28;43msum\u001B[39;49m\u001B[38;5;241;43m/\u001B[39;49m\u001B[43mindex\u001B[49m\u001B[38;5;241m+\u001B[39m\u001B[38;5;241m1\u001B[39m))\n",
      "\u001B[1;31mZeroDivisionError\u001B[0m: division by zero"
     ]
    }
   ],
   "execution_count": 1
  },
  {
   "metadata": {},
   "cell_type": "markdown",
   "source": [
    "Algorithme de tri:\n",
    "\n",
    "- selection sort O(n^2):\n",
    "\n",
    "trouver le plus petit de la partie pas triée et la mettre dans la partie triée\n",
    "repeter et mettre l'élement à la suite de la partie triée\n",
    "\n",
    "- merge sort O(nlog(n)):\n",
    "\n",
    "separer en plein de petit tas et trier chaque étage\n",
    "\n",
    "\n",
    "# conjecture de syracuse\n"
   ],
   "id": "e3d9e8db716f9280"
  }
 ],
 "metadata": {
  "kernelspec": {
   "display_name": "Python 3",
   "language": "python",
   "name": "python3"
  },
  "language_info": {
   "codemirror_mode": {
    "name": "ipython",
    "version": 2
   },
   "file_extension": ".py",
   "mimetype": "text/x-python",
   "name": "python",
   "nbconvert_exporter": "python",
   "pygments_lexer": "ipython2",
   "version": "2.7.6"
  }
 },
 "nbformat": 4,
 "nbformat_minor": 5
}
