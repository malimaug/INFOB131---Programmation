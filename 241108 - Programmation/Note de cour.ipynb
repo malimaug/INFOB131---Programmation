{
 "cells": [
  {
   "cell_type": "code",
   "id": "initial_id",
   "metadata": {
    "collapsed": true,
    "ExecuteTime": {
     "end_time": "2024-11-08T10:10:59.620210Z",
     "start_time": "2024-11-08T10:10:59.610966Z"
    }
   },
   "source": "print(\"initialised\")",
   "outputs": [
    {
     "name": "stdout",
     "output_type": "stream",
     "text": [
      "initialised\n"
     ]
    }
   ],
   "execution_count": 4
  },
  {
   "metadata": {},
   "cell_type": "markdown",
   "source": [
    "# Dictionaire et fonction de hashage\n",
    "\n",
    "liste c'est comme tuple mais modifiable (ajouter, suprimer, modifier un/des élément)\n",
    "dans ce cours on ne peut pas modifier la longeur d'une liste donc on peut juste modifier un élément.\n",
    "\n",
    "on peut écrire une liste par compréhansion (prendre une séquence et en crer une nouvelle"
   ],
   "id": "70aa4a405d2254a7"
  },
  {
   "metadata": {
    "ExecuteTime": {
     "end_time": "2024-11-08T10:10:59.768401Z",
     "start_time": "2024-11-08T10:10:59.760421Z"
    }
   },
   "cell_type": "code",
   "source": [
    "initial = [1, 2, 3, 4, 5]\n",
    "# on peut même rajouter une condition\n",
    "list = [number**2 for number in initial if number % 2 == 0]\n",
    "print(list)"
   ],
   "id": "fcf5eb2e9756c170",
   "outputs": [
    {
     "name": "stdout",
     "output_type": "stream",
     "text": [
      "[4, 16]\n"
     ]
    }
   ],
   "execution_count": 5
  },
  {
   "metadata": {
    "ExecuteTime": {
     "end_time": "2024-11-08T10:10:59.920323Z",
     "start_time": "2024-11-08T10:10:59.914447Z"
    }
   },
   "cell_type": "code",
   "source": "# Exemple microbit\n",
   "id": "434385ad0f733957",
   "outputs": [],
   "execution_count": 6
  },
  {
   "metadata": {},
   "cell_type": "markdown",
   "source": [
    "on compte une matrice par le coin superieur gauche\n",
    "\n",
    "les clées des dico peuvent être des string et des nombres\n",
    "\n",
    "L'ordinateur ne sait pas faire ça et donc il hashe les clée pour faire correspondre a chaque clée un hash (nombre)\n",
    "\n",
    "\n",
    "iteration sur les dictionaire: on itère sur les clées (aucune garantie sur l'ordre de passage des données)\n",
    "\n",
    "\n",
    "\n",
    "Exercisse suplémentaire dans les slides"
   ],
   "id": "93a0a5537c9479f1"
  },
  {
   "metadata": {},
   "cell_type": "markdown",
   "source": "",
   "id": "dce014ad93a9db44"
  }
 ],
 "metadata": {
  "kernelspec": {
   "display_name": "Python 3",
   "language": "python",
   "name": "python3"
  },
  "language_info": {
   "codemirror_mode": {
    "name": "ipython",
    "version": 2
   },
   "file_extension": ".py",
   "mimetype": "text/x-python",
   "name": "python",
   "nbconvert_exporter": "python",
   "pygments_lexer": "ipython2",
   "version": "2.7.6"
  }
 },
 "nbformat": 4,
 "nbformat_minor": 5
}
