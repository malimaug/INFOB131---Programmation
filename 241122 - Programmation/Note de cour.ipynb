{
 "cells": [
  {
   "metadata": {},
   "cell_type": "markdown",
   "source": [
    "# Stockage durable: fichier\n",
    "\n",
    "- terra\n",
    "- petta\n",
    "- exa\n",
    "\n",
    "trop de donnée, disparaissent si l'ordinateur s'éteint, ou permettre a un autre programme de l'acceder\n",
    "\n",
    "# répertoire\n",
    "\n",
    "- répertoire = dossier\n",
    "- sous-répertoire\n",
    "- répertoire racine = le 'premier' répertoire\n",
    "\n",
    "souvant représentée sous forme d'arborescence\n",
    "\n",
    "## notion de chemin:\n",
    "\n",
    "de la racine chaque dossier jusqu'au fichier\n",
    "\n",
    "chemin absolut (à partir de la racine):\n",
    "C:/users/programs/pycharm/mazemerizingcat/maze/mazev1.py\n",
    "\n",
    "répertoire courant/ working directory: c'est le répertoire dans lequel on est\n",
    "\n",
    "chemin relatif: ./workingdirectory/dossier/file.py\n",
    "\n",
    "## module os:\n",
    "copion avec getcwd et chdir\n",
    "\n",
    "peut pas utiliser chdir dans projet et exam\n",
    "\n"
   ],
   "id": "6237fa276f5442f"
  },
  {
   "metadata": {
    "ExecuteTime": {
     "end_time": "2024-11-22T10:25:43.879038Z",
     "start_time": "2024-11-22T10:25:43.857711Z"
    }
   },
   "cell_type": "code",
   "source": [
    "import os\n",
    "\n",
    "current_directory = os.getcwd()\n",
    "\n",
    "print(current_directory)"
   ],
   "id": "c272d68269095ce2",
   "outputs": [
    {
     "name": "stdout",
     "output_type": "stream",
     "text": [
      "C:\\Users\\matte\\PycharmProjects\\INFOB131 - Programmation\\241122 - Programmation\n"
     ]
    }
   ],
   "execution_count": 1
  },
  {
   "metadata": {},
   "cell_type": "markdown",
   "source": [
    "droit d'accès/permission\n",
    "\n",
    "admin/users\n",
    "\n",
    "explication des petit caractère\n",
    "\n",
    "root/user/all\n",
    "\n",
    "lire ou écrire pas les deux en même temps\n",
    "\n",
    "deux types: texte/binaire\n",
    "\n",
    "# pickle\n"
   ],
   "id": "76ad87c52a94a1d9"
  }
 ],
 "metadata": {
  "kernelspec": {
   "display_name": "Python 3",
   "language": "python",
   "name": "python3"
  },
  "language_info": {
   "codemirror_mode": {
    "name": "ipython",
    "version": 2
   },
   "file_extension": ".py",
   "mimetype": "text/x-python",
   "name": "python",
   "nbconvert_exporter": "python",
   "pygments_lexer": "ipython2",
   "version": "2.7.6"
  }
 },
 "nbformat": 4,
 "nbformat_minor": 5
}
