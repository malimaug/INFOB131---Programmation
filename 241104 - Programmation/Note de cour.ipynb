{
 "cells": [
  {
   "metadata": {},
   "cell_type": "markdown",
   "source": [
    "# Notes de cour\n",
    "\n",
    "# Structures de données\n",
    "- chaine de caractère\n",
    "- tuple\n",
    "- liste\n",
    "- dico\n",
    "- iteration dessus\n",
    "- conceptions\n",
    "\n",
    "permet plus d'abstraction\n",
    "\n",
    "## strings\n",
    "définition a connaitre par coeur\n",
    ": séquence ordonnée non modifiable de caractères\n",
    "attention guillemets simple pour les string\n",
    "séquence d'échapement avec backslash (\\)\n",
    "sert a savoir que quelque chose de spécial vas se passer \\n \\t \\v mais d'autres pour d'autres truc (le tout est considéré comme un seul caractère)\n",
    "\n",
    "on ne peut pas modifier la chaine donc obligé de créer une nouvelle avec les élément voulut (concaténation, multiplication...)\n",
    "\n",
    "chaine de formatage (%, %d, %f, %o, %e, %x, %s)\n",
    "\n",
    "code ascii ou utf8 sont des standard pour assigner des lettres a des suites de 8 bit\n",
    "\n",
    "\n",
    "## tuples and list\n",
    "séquence ordonée d'élément\n",
    "\n",
    "### tuple\n",
    "séquence ordonnée non-modifiable d'élément\n",
    "syntaxe = (1, 2, 3) ou (\"word\", 1, (\"word\", 1, 2)) ou (\"B\", \"o\", \"n\", \"d\")\n",
    "\n",
    "l'indexation fonctionne aussi sur ceci\n",
    "\n",
    "fonction enumerate itere sur l'index et les élémént\n",
    "\n",
    "### liste\n",
    "\n",
    "comme tuple mais modifiable\n",
    "plein de fonction pour faire des modification\n",
    "\n",
    "## dictionaire\n",
    "recherche par mots clé\n",
    "ensemble non ordoné modifiable\n",
    "\n",
    "associe une clée et une valeur\n",
    "\n",
    "on utilise des acolades\n",
    "\n",
    "## Principe d'indexation\n",
    "\n",
    "toute liste, chaque élément a un id, l'id du premier élément est 0 et puis incrémenté de 1 pour chaque élément suivant\n",
    "list[0], list[1]\n",
    "\n",
    "on peut aussi récupérer une tranche list[7:13] avec 13 exclus. si on ne mets rien derrière les deux point, on prend tout jusqu'a la fin\n",
    "l'inverse ([:5]) peut se faire aussi\n",
    "\n",
    "on peut aussi verifier si une chaine de charachtère en contient une autre (sous chaines in chaine)\n",
    "\n"
   ],
   "id": "8af1ca3c307ec9d0"
  },
  {
   "cell_type": "code",
   "id": "initial_id",
   "metadata": {
    "collapsed": true,
    "ExecuteTime": {
     "end_time": "2024-11-04T14:05:42.182558Z",
     "start_time": "2024-11-04T14:05:42.177091Z"
    }
   },
   "source": [
    "#exemple moyenne de la classe sans boucle\n",
    "\n",
    "student1 = \"Elise\"\n",
    "student2 = \"Charle\"\n",
    "student3 = \"John\"\n",
    "student4 = \"Marie\"\n",
    "student5 = \"Hector\"\n",
    "\n",
    "grade1 = 10\n",
    "grade2 = 20\n",
    "grade3 = 17\n",
    "grade4 = 5\n",
    "grade5 = 9\n",
    "\n",
    "print((grade1 + grade2 + grade3 + grade4 + grade5) /5)"
   ],
   "outputs": [
    {
     "name": "stdout",
     "output_type": "stream",
     "text": [
      "12.2\n"
     ]
    }
   ],
   "execution_count": 3
  },
  {
   "metadata": {},
   "cell_type": "markdown",
   "source": "not very effective",
   "id": "fcf775ec1f2492b0"
  },
  {
   "metadata": {
    "ExecuteTime": {
     "end_time": "2024-11-04T14:05:42.151504600Z",
     "start_time": "2024-11-04T13:26:44.137619Z"
    }
   },
   "cell_type": "code",
   "source": [
    "# avec boucle et liste\n",
    "\n",
    "student_name_list = [student1, student2, student3, student4, student5]\n",
    "student_grade_list = [grade1, grade2, grade3, grade4, grade5]\n",
    "\n",
    "mean = 0\n",
    "for student_id in range(len(student_name_list)):\n",
    "    mean += student_grade_list[student_id]\n",
    "    \n",
    "mean /= len(student_name_list)\n",
    "print(mean)\n"
   ],
   "id": "5c2db44304ff98d1",
   "outputs": [
    {
     "name": "stdout",
     "output_type": "stream",
     "text": [
      "12.2\n"
     ]
    }
   ],
   "execution_count": 2
  },
  {
   "metadata": {},
   "cell_type": "code",
   "outputs": [],
   "execution_count": null,
   "source": [
    "# exemple dico\n",
    "\n",
    "courses = {\"INFOB1\":{ \"name\": \"math\",\n",
    "                      \"teacher\": \"Vleeschouwer\",\n",
    "                      \"bloc\": 1,\n",
    "                      \"quadri\": 1,},\n",
    "           \"INFOB2\":{\"name\": \"math\",\n",
    "                      \"teacher\": \"Vleeschouwer\",\n",
    "                      \"bloc\": 1,\n",
    "                      \"quadri\": 1,},\n",
    "           \"INFOB3\":{\"name\": \"math\",\n",
    "                      \"teacher\": \"Vleeschouwer\",\n",
    "                      \"bloc\": 1,\n",
    "                      \"quadri\": 1,},\n",
    "           \"INFOB4\":{\"name\": \"math\",\n",
    "                      \"teacher\": \"Vleeschouwer\",\n",
    "                      \"bloc\": 1,\n",
    "                      \"quadri\": 1,},}"
   ],
   "id": "864ed5efb8163199"
  },
  {
   "metadata": {
    "ExecuteTime": {
     "end_time": "2024-11-04T14:13:36.493865Z",
     "start_time": "2024-11-04T14:13:36.483954Z"
    }
   },
   "cell_type": "code",
   "source": [
    "#test\n",
    "list_test = \"hello this is me\"\n",
    "print(list_test[:5])\n",
    "print(list_test[5:])"
   ],
   "id": "212d6a098f870fc1",
   "outputs": [
    {
     "name": "stdout",
     "output_type": "stream",
     "text": [
      "hello\n",
      " this is me\n"
     ]
    }
   ],
   "execution_count": 5
  },
  {
   "metadata": {
    "ExecuteTime": {
     "end_time": "2024-11-04T14:17:31.626804Z",
     "start_time": "2024-11-04T14:17:31.615452Z"
    }
   },
   "cell_type": "code",
   "source": [
    "quote = \"my name is bond!\"\n",
    "\n",
    "if \"bond\" in quote:\n",
    "    print(\"007\")"
   ],
   "id": "10c669b32b4c5e02",
   "outputs": [
    {
     "name": "stdout",
     "output_type": "stream",
     "text": [
      "007\n"
     ]
    }
   ],
   "execution_count": 8
  },
  {
   "metadata": {
    "ExecuteTime": {
     "end_time": "2024-11-04T14:28:39.586648Z",
     "start_time": "2024-11-04T14:28:39.576955Z"
    }
   },
   "cell_type": "code",
   "source": "print(0b00011010 or 0b100101)",
   "id": "4bb9b3438f0bd779",
   "outputs": [
    {
     "name": "stdout",
     "output_type": "stream",
     "text": [
      "26\n"
     ]
    }
   ],
   "execution_count": 18
  },
  {
   "metadata": {
    "ExecuteTime": {
     "end_time": "2024-11-04T14:39:25.055352Z",
     "start_time": "2024-11-04T14:39:25.031637Z"
    }
   },
   "cell_type": "code",
   "source": [
    "#exemple palindrome (mots qui se lise dans les deux sens, kayak)\n",
    "def is_palindrome(word: str) -> bool:\n",
    "    \"\"\"\n",
    "    Checks if a word is a palindrome\n",
    "    \n",
    "    Parameters\n",
    "    ----------\n",
    "    word : the word we want to check (str)\n",
    "    \n",
    "    Returns\n",
    "    -------\n",
    "    result: True if the word is a palindrome, False otherwise (bool) \n",
    "    \"\"\"\n",
    "   \n",
    "    for i in range(len(word) // 2):\n",
    "        if word[i] != word[len(word) - i - 1]:\n",
    "            return False\n",
    "    \n",
    "    return True\n",
    "        \n",
    "print(is_palindrome(\"bob\"))\n"
   ],
   "id": "a41863a4972b60a0",
   "outputs": [
    {
     "name": "stdout",
     "output_type": "stream",
     "text": [
      "True\n"
     ]
    }
   ],
   "execution_count": 25
  },
  {
   "metadata": {
    "ExecuteTime": {
     "end_time": "2024-11-04T14:50:39.531176Z",
     "start_time": "2024-11-04T14:50:39.523001Z"
    }
   },
   "cell_type": "code",
   "source": [
    "for index, element in enumerate(list_test):\n",
    "    print(index, element)"
   ],
   "id": "2f0707d52b6a8a93",
   "outputs": [
    {
     "name": "stdout",
     "output_type": "stream",
     "text": [
      "0 h\n",
      "1 e\n",
      "2 l\n",
      "3 l\n",
      "4 o\n",
      "5  \n",
      "6 t\n",
      "7 h\n",
      "8 i\n",
      "9 s\n",
      "10  \n",
      "11 i\n",
      "12 s\n",
      "13  \n",
      "14 m\n",
      "15 e\n"
     ]
    }
   ],
   "execution_count": 26
  }
 ],
 "metadata": {
  "kernelspec": {
   "display_name": "Python 3",
   "language": "python",
   "name": "python3"
  },
  "language_info": {
   "codemirror_mode": {
    "name": "ipython",
    "version": 2
   },
   "file_extension": ".py",
   "mimetype": "text/x-python",
   "name": "python",
   "nbconvert_exporter": "python",
   "pygments_lexer": "ipython2",
   "version": "2.7.6"
  }
 },
 "nbformat": 4,
 "nbformat_minor": 5
}
