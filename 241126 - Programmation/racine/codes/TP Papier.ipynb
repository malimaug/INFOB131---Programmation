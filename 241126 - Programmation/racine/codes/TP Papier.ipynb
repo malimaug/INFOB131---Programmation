{
 "cells": [
  {
   "metadata": {},
   "cell_type": "markdown",
   "source": [
    "### 1. Différence mode a, w, r\n",
    "- a: (append) permet d'ajouter des données à la fin d'un fichier sans supprimer ce qui est déja dedans\n",
    "- w: (write) remplace les données actuelles du fichier avec des nouvelles\n",
    "- r: (read) permet de lire les données dans le fichier sans pour autant pouvoir modifier quoi que ce soit\n",
    "\n",
    "### 2. Fermer un fichier\n",
    "\n",
    "file.close() est très important pour ne pas occuper de la mémoire inutilement\n",
    "\n",
    "### 3. Différence read et readline\n",
    "\n",
    "read renvoie une liste avec tout les charatères du fichier d'un coup alors que readlines crée une liste par ligne (mais quand même tout le fichier)\n",
    "\n",
    "### 4. Différence isdir() et isfile()\n",
    "\n",
    "la fonction isdir renvoye True seulement si le chemin spécifié fait référence a un dossier/répertoire et False dans les autres cas. Alors que isfile renvoye True si le chemin spécifié est celui d'un fichier et False dans les autres cas\n",
    "\n",
    "### 5. Lire un fichier ligne par ligne\n",
    "\n",
    "Pour lire un fichier ligne par ligne il faut ouvrir le fichier en read, lui effectuer la fonction readlines et puis itérer sur la liste obtenue"
   ],
   "id": "fc805fc1cc7e45a6"
  },
  {
   "metadata": {
    "ExecuteTime": {
     "end_time": "2024-11-25T09:16:15.178759Z",
     "start_time": "2024-11-25T09:16:15.171846Z"
    }
   },
   "cell_type": "code",
   "source": [
    "import os\n",
    "\n",
    "open_file = open(\"../../test\", mode=\"r\")\n",
    "\n",
    "lines = open_file.readlines()\n",
    "\n",
    "for line in lines:\n",
    "\n",
    "    if line[-1] == '\\n':\n",
    "        line = line[:-1]\n",
    "\n",
    "    print(line)\n",
    "\n",
    "open_file.close()"
   ],
   "id": "4111056038d5161f",
   "outputs": [
    {
     "name": "stdout",
     "output_type": "stream",
     "text": [
      "hello\n",
      "world\n"
     ]
    }
   ],
   "execution_count": 4
  },
  {
   "metadata": {},
   "cell_type": "markdown",
   "source": "### 6. Copier d'un fichier à un autre",
   "id": "9a19ee086b389a00"
  },
  {
   "metadata": {
    "ExecuteTime": {
     "end_time": "2024-11-25T09:17:43.559221Z",
     "start_time": "2024-11-25T09:17:43.550199Z"
    }
   },
   "cell_type": "code",
   "source": [
    "file_1 = open(\"../../test1\", mode=\"r\")\n",
    "file_2 = open(\"../../test2\", mode=\"w\")\n",
    "\n",
    "data = file_1.read()\n",
    "file_2.write(data)\n",
    "\n",
    "file_1.close()\n",
    "file_2.close()"
   ],
   "id": "d23dda2fb4ea03ac",
   "outputs": [],
   "execution_count": 7
  },
  {
   "metadata": {},
   "cell_type": "markdown",
   "source": [
    "### 7. Problème d'arboresence\n",
    "\n",
    "#### a. lister les fichiers dans Clapton"
   ],
   "id": "d5d561b4235ed38"
  },
  {
   "metadata": {
    "ExecuteTime": {
     "end_time": "2024-11-26T08:28:46.568222Z",
     "start_time": "2024-11-26T08:28:46.517710Z"
    }
   },
   "cell_type": "code",
   "source": [
    "import os\n",
    "\n",
    "liste = os.listdir(\"C:/Users/matte/PycharmProjects/INFOB131 - Programmation/241126 - Programmation/racine/Musique/Clapton\")\n",
    "print(liste)\n",
    "\n",
    "liste = os.listdir(\"./241126 - Programmation/racine/Musique/Clapton\")\n",
    "print(liste)"
   ],
   "id": "8579fca67140b4d2",
   "outputs": [
    {
     "name": "stdout",
     "output_type": "stream",
     "text": [
      "['Cocaine.mp3', 'infos.txt']\n"
     ]
    },
    {
     "ename": "FileNotFoundError",
     "evalue": "[WinError 3] The system cannot find the path specified: './241126 - Programmation/racine/Musique/Clapton'",
     "output_type": "error",
     "traceback": [
      "\u001B[1;31m---------------------------------------------------------------------------\u001B[0m",
      "\u001B[1;31mFileNotFoundError\u001B[0m                         Traceback (most recent call last)",
      "Cell \u001B[1;32mIn[16], line 6\u001B[0m\n\u001B[0;32m      3\u001B[0m liste \u001B[38;5;241m=\u001B[39m os\u001B[38;5;241m.\u001B[39mlistdir(\u001B[38;5;124m\"\u001B[39m\u001B[38;5;124mC:/Users/matte/PycharmProjects/INFOB131 - Programmation/241126 - Programmation/racine/Musique/Clapton\u001B[39m\u001B[38;5;124m\"\u001B[39m)\n\u001B[0;32m      4\u001B[0m \u001B[38;5;28mprint\u001B[39m(liste)\n\u001B[1;32m----> 6\u001B[0m liste \u001B[38;5;241m=\u001B[39m \u001B[43mos\u001B[49m\u001B[38;5;241;43m.\u001B[39;49m\u001B[43mlistdir\u001B[49m\u001B[43m(\u001B[49m\u001B[38;5;124;43m\"\u001B[39;49m\u001B[38;5;124;43m./241126 - Programmation/racine/Musique/Clapton\u001B[39;49m\u001B[38;5;124;43m\"\u001B[39;49m\u001B[43m)\u001B[49m\n\u001B[0;32m      7\u001B[0m \u001B[38;5;28mprint\u001B[39m(liste)\n",
      "\u001B[1;31mFileNotFoundError\u001B[0m: [WinError 3] The system cannot find the path specified: './241126 - Programmation/racine/Musique/Clapton'"
     ]
    }
   ],
   "execution_count": 16
  },
  {
   "metadata": {},
   "cell_type": "code",
   "outputs": [],
   "execution_count": null,
   "source": [
    "# b. changer le répertoire de travail actuel pour info\n",
    "\n",
    "os.chdir(\"../Documents/info\")\n",
    "os.chdir(\"racine/Documents/info\")"
   ],
   "id": "1c18b1bfa858ea7e"
  },
  {
   "metadata": {},
   "cell_type": "code",
   "outputs": [],
   "execution_count": null,
   "source": [
    "# c. verifier si bunker.jpg existe\n",
    "\n",
    "os.path.exists(\"../Images/soiree/bunker.jpg\")\n",
    "os.path.exists(\"racine/Images/soiree/bunker.jpg\")"
   ],
   "id": "71cfd34f35dcc187"
  },
  {
   "metadata": {},
   "cell_type": "code",
   "outputs": [],
   "execution_count": null,
   "source": [
    "# d. creer un nouveau dossier dans racine\n",
    "\n",
    "os.mkdir(\"racine/Films\")\n",
    "os.mkdir(\"../Films\")"
   ],
   "id": "b237b788b6ddec9"
  },
  {
   "metadata": {},
   "cell_type": "code",
   "outputs": [],
   "execution_count": null,
   "source": [
    "# e. renommer bunker.jpg en cercle.jpg\n",
    "\n",
    "os.rename(\"racine/Images/soiree/bunker.jpg\", \"racine/Images/soiree/cercle.jpg\")\n",
    "os.rename(\"../Images/soiree/bunker.jpg\", \"../Images/soiree/cercle.jpg\")"
   ],
   "id": "b4e3fcfbf873946"
  },
  {
   "metadata": {
    "ExecuteTime": {
     "end_time": "2024-11-26T08:15:08.302372Z",
     "start_time": "2024-11-26T08:15:08.291705Z"
    }
   },
   "cell_type": "code",
   "source": [
    "# f. créer mp2.py dans projet\n",
    "import os\n",
    "os.chdir(\"C:/Users/matte/PycharmProjects/INFOB131 - Programmation/241126 - Programmation/racine/codes/Projets\")\n",
    "\n",
    "mp2 = open(\"mp2.py\",mode=\"w\")\n",
    "mp2.write(\"Hello World!\")\n",
    "mp2.close()"
   ],
   "id": "f296cb6b74ab39ad",
   "outputs": [],
   "execution_count": 9
  },
  {
   "metadata": {
    "ExecuteTime": {
     "end_time": "2024-11-26T08:14:43.995699Z",
     "start_time": "2024-11-26T08:14:43.962593Z"
    }
   },
   "cell_type": "code",
   "outputs": [
    {
     "ename": "FileNotFoundError",
     "evalue": "[Errno 2] No such file or directory: 'racine/codes/Projets/mp2.py'",
     "output_type": "error",
     "traceback": [
      "\u001B[1;31m---------------------------------------------------------------------------\u001B[0m",
      "\u001B[1;31mFileNotFoundError\u001B[0m                         Traceback (most recent call last)",
      "Cell \u001B[1;32mIn[8], line 9\u001B[0m\n\u001B[0;32m      6\u001B[0m mp2\u001B[38;5;241m.\u001B[39mwrite(\u001B[38;5;124m\"\u001B[39m\u001B[38;5;124mHello World!\u001B[39m\u001B[38;5;124m\"\u001B[39m)\n\u001B[0;32m      7\u001B[0m mp2\u001B[38;5;241m.\u001B[39mclose()\n\u001B[1;32m----> 9\u001B[0m mp2 \u001B[38;5;241m=\u001B[39m \u001B[38;5;28;43mopen\u001B[39;49m\u001B[43m(\u001B[49m\u001B[38;5;124;43m\"\u001B[39;49m\u001B[38;5;124;43mracine/codes/Projets/mp2.py\u001B[39;49m\u001B[38;5;124;43m\"\u001B[39;49m\u001B[43m,\u001B[49m\u001B[43mmode\u001B[49m\u001B[38;5;241;43m=\u001B[39;49m\u001B[38;5;124;43m\"\u001B[39;49m\u001B[38;5;124;43mw\u001B[39;49m\u001B[38;5;124;43m\"\u001B[39;49m\u001B[43m)\u001B[49m\n\u001B[0;32m     10\u001B[0m mp2\u001B[38;5;241m.\u001B[39mwrite(\u001B[38;5;124m\"\u001B[39m\u001B[38;5;124mHello World!\u001B[39m\u001B[38;5;124m\"\u001B[39m)\n\u001B[0;32m     11\u001B[0m mp2\u001B[38;5;241m.\u001B[39mclose()\n",
      "File \u001B[1;32m~\\PycharmProjects\\INFOB131 - Programmation\\.venv\\Lib\\site-packages\\IPython\\core\\interactiveshell.py:324\u001B[0m, in \u001B[0;36m_modified_open\u001B[1;34m(file, *args, **kwargs)\u001B[0m\n\u001B[0;32m    317\u001B[0m \u001B[38;5;28;01mif\u001B[39;00m file \u001B[38;5;129;01min\u001B[39;00m {\u001B[38;5;241m0\u001B[39m, \u001B[38;5;241m1\u001B[39m, \u001B[38;5;241m2\u001B[39m}:\n\u001B[0;32m    318\u001B[0m     \u001B[38;5;28;01mraise\u001B[39;00m \u001B[38;5;167;01mValueError\u001B[39;00m(\n\u001B[0;32m    319\u001B[0m         \u001B[38;5;124mf\u001B[39m\u001B[38;5;124m\"\u001B[39m\u001B[38;5;124mIPython won\u001B[39m\u001B[38;5;124m'\u001B[39m\u001B[38;5;124mt let you open fd=\u001B[39m\u001B[38;5;132;01m{\u001B[39;00mfile\u001B[38;5;132;01m}\u001B[39;00m\u001B[38;5;124m by default \u001B[39m\u001B[38;5;124m\"\u001B[39m\n\u001B[0;32m    320\u001B[0m         \u001B[38;5;124m\"\u001B[39m\u001B[38;5;124mas it is likely to crash IPython. If you know what you are doing, \u001B[39m\u001B[38;5;124m\"\u001B[39m\n\u001B[0;32m    321\u001B[0m         \u001B[38;5;124m\"\u001B[39m\u001B[38;5;124myou can use builtins\u001B[39m\u001B[38;5;124m'\u001B[39m\u001B[38;5;124m open.\u001B[39m\u001B[38;5;124m\"\u001B[39m\n\u001B[0;32m    322\u001B[0m     )\n\u001B[1;32m--> 324\u001B[0m \u001B[38;5;28;01mreturn\u001B[39;00m \u001B[43mio_open\u001B[49m\u001B[43m(\u001B[49m\u001B[43mfile\u001B[49m\u001B[43m,\u001B[49m\u001B[43m \u001B[49m\u001B[38;5;241;43m*\u001B[39;49m\u001B[43margs\u001B[49m\u001B[43m,\u001B[49m\u001B[43m \u001B[49m\u001B[38;5;241;43m*\u001B[39;49m\u001B[38;5;241;43m*\u001B[39;49m\u001B[43mkwargs\u001B[49m\u001B[43m)\u001B[49m\n",
      "\u001B[1;31mFileNotFoundError\u001B[0m: [Errno 2] No such file or directory: 'racine/codes/Projets/mp2.py'"
     ]
    }
   ],
   "execution_count": 8,
   "source": [
    "\n",
    "mp2 = open(\"racine/codes/Projets/mp2.py\",mode=\"w\")\n",
    "mp2.write(\"Hello World!\")\n",
    "mp2.close()"
   ],
   "id": "fa4e910b975946d6"
  }
 ],
 "metadata": {
  "kernelspec": {
   "display_name": "Python 3",
   "language": "python",
   "name": "python3"
  },
  "language_info": {
   "codemirror_mode": {
    "name": "ipython",
    "version": 2
   },
   "file_extension": ".py",
   "mimetype": "text/x-python",
   "name": "python",
   "nbconvert_exporter": "python",
   "pygments_lexer": "ipython2",
   "version": "2.7.6"
  }
 },
 "nbformat": 4,
 "nbformat_minor": 5
}
