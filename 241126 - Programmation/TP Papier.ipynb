{
 "cells": [
  {
   "metadata": {},
   "cell_type": "markdown",
   "source": [
    "### 1. Différence mode a, w, r\n",
    "- a: (append) permet d'ajouter des données à la fin d'un fichier sans supprimer ce qui est déja dedans\n",
    "- w: (write) remplace les données actuelles du fichier avec des nouvelles\n",
    "- r: (read) permet de lire les données dans le fichier sans pour autant pouvoir modifier quoi que ce soit\n",
    "\n",
    "### 2. Fermer un fichier\n",
    "\n",
    "file.close() est très important pour ne pas occuper de la mémoire inutilement\n",
    "\n",
    "### 3. Différence read et readline\n",
    "\n",
    "read renvoie une liste avec tout les charatères du fichier d'un coup alors que readlines crée une liste par ligne (mais quand même tout le fichier)\n",
    "\n",
    "### 4. Différence isdir() et isfile()\n",
    "\n",
    "la fonction isdir renvoye True seulement si le chemin spécifié fait référence a un dossier/répertoire et False dans les autres cas. Alors que isfile renvoye True si le chemin spécifié est celui d'un fichier et False dans les autres cas\n",
    "\n",
    "### 5. Lire un fichier ligne par ligne\n",
    "\n",
    "Pour lire un fichier ligne par ligne il faut ouvrir le fichier en read, lui effectuer la fonction readlines et puis itérer sur la liste obtenue"
   ],
   "id": "fc805fc1cc7e45a6"
  },
  {
   "metadata": {
    "ExecuteTime": {
     "end_time": "2024-11-25T09:16:15.178759Z",
     "start_time": "2024-11-25T09:16:15.171846Z"
    }
   },
   "cell_type": "code",
   "source": [
    "import os\n",
    "\n",
    "open_file = open(\"./test\",mode=\"r\")\n",
    "\n",
    "lines = open_file.readlines()\n",
    "\n",
    "for line in lines:\n",
    "\n",
    "    if line[-1] == '\\n':\n",
    "        line = line[:-1]\n",
    "\n",
    "    print(line)\n",
    "\n",
    "open_file.close()"
   ],
   "id": "4111056038d5161f",
   "outputs": [
    {
     "name": "stdout",
     "output_type": "stream",
     "text": [
      "hello\n",
      "world\n"
     ]
    }
   ],
   "execution_count": 4
  },
  {
   "metadata": {},
   "cell_type": "markdown",
   "source": "### 6. Copier d'un fichier à un autre",
   "id": "9a19ee086b389a00"
  },
  {
   "metadata": {
    "ExecuteTime": {
     "end_time": "2024-11-25T09:17:43.559221Z",
     "start_time": "2024-11-25T09:17:43.550199Z"
    }
   },
   "cell_type": "code",
   "source": [
    "file_1 = open(\"test1\",mode=\"r\")\n",
    "file_2 = open(\"test2\",mode=\"w\")\n",
    "\n",
    "data = file_1.read()\n",
    "file_2.write(data)\n",
    "\n",
    "file_1.close()\n",
    "file_2.close()"
   ],
   "id": "d23dda2fb4ea03ac",
   "outputs": [],
   "execution_count": 7
  },
  {
   "metadata": {},
   "cell_type": "markdown",
   "source": [
    "### 7. Problème d'arboresence\n",
    "\n",
    "#### a. lister les fichiers dans Clapton"
   ],
   "id": "d5d561b4235ed38"
  },
  {
   "metadata": {
    "ExecuteTime": {
     "end_time": "2024-11-25T09:24:55.349049Z",
     "start_time": "2024-11-25T09:24:55.342542Z"
    }
   },
   "cell_type": "code",
   "source": [
    "liste = os.listdir(\"racine/Musique/Clapton\")\n",
    "print(liste)\n",
    "\n",
    "liste = os.listdir(\"../Musique/Clapton\")\n",
    "print(liste)"
   ],
   "id": "8579fca67140b4d2",
   "outputs": [
    {
     "name": "stdout",
     "output_type": "stream",
     "text": [
      "['240925_TPProgrammation.py', 'Frais Maison.py', 'RandomEX.py']\n",
      "['240925_TPProgrammation.py', 'Frais Maison.py', 'RandomEX.py']\n"
     ]
    }
   ],
   "execution_count": 13
  },
  {
   "metadata": {},
   "cell_type": "code",
   "outputs": [],
   "execution_count": null,
   "source": [
    "# b. changer le répertoire de travail actuel pour info\n",
    "\n",
    "os.chdir(\"../Documents/info\")\n",
    "os.chdir(\"racine/Documents/info\")"
   ],
   "id": "1c18b1bfa858ea7e"
  },
  {
   "metadata": {},
   "cell_type": "code",
   "outputs": [],
   "execution_count": null,
   "source": [
    "# c. verifier si bunker.jpg existe\n",
    "\n",
    "os.path.exists(\"../Images/soiree/bunker.jpg\")\n",
    "os.path.exists(\"racine/Images/soiree/bunker.jpg\")"
   ],
   "id": "71cfd34f35dcc187"
  },
  {
   "metadata": {},
   "cell_type": "code",
   "outputs": [],
   "execution_count": null,
   "source": [
    "# d. creer un nouveau dossier dans racines\n",
    "\n",
    "os.mkdir(\"racine/Films\")\n",
    "os.mkdir(\"../Films\")"
   ],
   "id": "b237b788b6ddec9"
  },
  {
   "metadata": {},
   "cell_type": "code",
   "outputs": [],
   "execution_count": null,
   "source": [
    "# e. renommer bunker.jpg en cercle.jpg\n",
    "\n",
    "os.rename(\"racine/Images/soiree/bunker.jpg\", \"racine/Images/soiree/cercle.jpg\")\n",
    "os.rename(\"../Images/soiree/bunker.jpg\", \"../Images/soiree/cercle.jpg\")"
   ],
   "id": "b4e3fcfbf873946"
  },
  {
   "metadata": {
    "ExecuteTime": {
     "end_time": "2024-11-25T09:40:31.373579Z",
     "start_time": "2024-11-25T09:40:31.366826Z"
    }
   },
   "cell_type": "code",
   "source": [
    "# f. créer mp2.py dans projet\n",
    "\n",
    "mp2 = open(\"./Projets/mp2.py\",mode=\"w\")\n",
    "mp2.write(\"Hello World!\")\n",
    "mp2.close()\n",
    "\n",
    "mp2 = open(\"racine/codes/Projets/mp2.py\",mode=\"w\")\n",
    "mp2.write(\"Hello World!\")\n",
    "mp2.close()"
   ],
   "id": "fa4e910b975946d6",
   "outputs": [],
   "execution_count": 18
  }
 ],
 "metadata": {
  "kernelspec": {
   "display_name": "Python 3",
   "language": "python",
   "name": "python3"
  },
  "language_info": {
   "codemirror_mode": {
    "name": "ipython",
    "version": 2
   },
   "file_extension": ".py",
   "mimetype": "text/x-python",
   "name": "python",
   "nbconvert_exporter": "python",
   "pygments_lexer": "ipython2",
   "version": "2.7.6"
  }
 },
 "nbformat": 4,
 "nbformat_minor": 5
}
